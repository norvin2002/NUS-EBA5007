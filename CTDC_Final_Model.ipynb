{
 "cells": [
  {
   "cell_type": "code",
   "execution_count": 1,
   "metadata": {},
   "outputs": [
    {
     "name": "stderr",
     "output_type": "stream",
     "text": [
      "C:\\ProgramData\\Anaconda3\\lib\\site-packages\\sklearn\\externals\\joblib\\__init__.py:15: FutureWarning: sklearn.externals.joblib is deprecated in 0.21 and will be removed in 0.23. Please import this functionality directly from joblib, which can be installed with: pip install joblib. If this warning is raised when loading pickled models, you may need to re-serialize those models with scikit-learn 0.21+.\n",
      "  warnings.warn(msg, category=FutureWarning)\n"
     ]
    }
   ],
   "source": [
    "import numpy as np\n",
    "import pandas as pd\n",
    "import matplotlib.pyplot as plt\n",
    "from numpy import mean\n",
    "from numpy import std\n",
    "from sklearn.datasets import make_classification\n",
    "from sklearn.linear_model import LogisticRegression\n",
    "from sklearn.svm import LinearSVC\n",
    "from sklearn.svm import SVC\n",
    "from sklearn.model_selection import cross_val_score\n",
    "from sklearn.model_selection import RepeatedStratifiedKFold\n",
    "from sklearn.ensemble import ExtraTreesClassifier\n",
    "from sklearn.ensemble import StackingClassifier\n",
    "from sklearn.ensemble import RandomForestClassifier\n",
    "from sklearn.neighbors import KNeighborsClassifier\n",
    "from sklearn.tree import DecisionTreeClassifier\n",
    "from sklearn.naive_bayes import GaussianNB\n",
    "import xgboost as xgb\n",
    "from xgboost import XGBClassifier\n",
    "from sklearn.externals import joblib"
   ]
  },
  {
   "cell_type": "code",
   "execution_count": 2,
   "metadata": {},
   "outputs": [],
   "source": [
    "from sklearn.model_selection import train_test_split\n",
    "from sklearn import metrics\n",
    "from sklearn.metrics import confusion_matrix\n",
    "from sklearn.metrics import accuracy_score\n",
    "from sklearn.preprocessing import scale\n",
    "import os\n",
    "\n",
    "import codecs\n",
    "\n",
    "\n",
    "import scikitplot as skplt\n",
    "from sklearn.feature_selection import SelectKBest, chi2"
   ]
  },
  {
   "cell_type": "code",
   "execution_count": 3,
   "metadata": {},
   "outputs": [],
   "source": [
    "# Optuna\n",
    "import optuna\n",
    "from optuna import Trial, visualization\n",
    "from optuna.samplers import TPESampler"
   ]
  },
  {
   "cell_type": "code",
   "execution_count": 4,
   "metadata": {},
   "outputs": [],
   "source": [
    "import warnings\n",
    "warnings.filterwarnings('ignore')"
   ]
  },
  {
   "cell_type": "code",
   "execution_count": 5,
   "metadata": {},
   "outputs": [],
   "source": [
    "# Set seed value\n",
    "random_seed= 123\n",
    "#42\n",
    "\n",
    "# 1. Set `PYTHONHASHSEED` environment variable at a fixed value\n",
    "import os\n",
    "os.environ['PYTHONHASHSEED']=str(random_seed)\n",
    "# 2. Set `python` built-in pseudo-random generator at a fixed value\n",
    "import random\n",
    "random.seed(random_seed)\n",
    "# 3. Set `numpy` pseudo-random generator at a fixed value\n",
    "import numpy as np\n",
    "np.random.seed(random_seed)"
   ]
  },
  {
   "cell_type": "markdown",
   "metadata": {},
   "source": [
    "## Load Dataset"
   ]
  },
  {
   "cell_type": "code",
   "execution_count": 6,
   "metadata": {},
   "outputs": [],
   "source": [
    "## CTDC\n",
    "\n",
    "ctdc_train_N = pd.read_csv('C:/Users/nchandra/OneDrive - National University of Singapore/FYP/BioStatsFYP/PredProtein/311020 FYP/data/ctdc_train_N.csv',header = None)\n",
    "ctdc_train_N['target'] = 0\n",
    "\n",
    "ctdc_train_P = pd.read_csv('C:/Users/nchandra/OneDrive - National University of Singapore/FYP/BioStatsFYP/PredProtein/311020 FYP/data/ctdc_train_P.csv', header = None)\n",
    "ctdc_train_P['target'] = 1\n",
    "\n",
    "ctdc_train = pd.concat([ctdc_train_P.iloc[:,1:], ctdc_train_N.iloc[:,1:]], axis = 0)\n",
    "ctdc_train.reset_index(drop = True, inplace = True)\n",
    "ctdc_train['target'] = ctdc_train['target'].astype('category')\n",
    "\n",
    "ctdc_X = ctdc_train.drop('target', axis = 1)\n",
    "ctdc_y = ctdc_train['target']"
   ]
  },
  {
   "cell_type": "code",
   "execution_count": 7,
   "metadata": {},
   "outputs": [],
   "source": [
    "# independent test data\n",
    "\n",
    "\n",
    "ctdc_test_N = pd.read_csv('C:/Users/nchandra/OneDrive - National University of Singapore/FYP/BioStatsFYP/PredProtein/311020 FYP/data/ctdc_test_N.csv', header = None)\n",
    "ctdc_test_N['target'] = 0\n",
    "\n",
    "ctdc_test_P = pd.read_csv('C:/Users/nchandra/OneDrive - National University of Singapore/FYP/BioStatsFYP/PredProtein/311020 FYP/data/ctdc_test_P.csv', header = None)\n",
    "ctdc_test_P['target'] = 1\n",
    "\n",
    "ctdc_test = pd.concat([ctdc_test_P.iloc[:,1:], ctdc_test_N.iloc[:,1:]], axis = 0)\n",
    "ctdc_test.reset_index(drop = True, inplace = True)\n",
    "\n",
    "ctdc_indX_test = ctdc_test.drop('target', axis = 1)\n",
    "\n",
    "ctdc_indy_test = ctdc_test['target']\n"
   ]
  },
  {
   "cell_type": "markdown",
   "metadata": {},
   "source": [
    "### Training and Test Data Scaling"
   ]
  },
  {
   "cell_type": "code",
   "execution_count": 8,
   "metadata": {},
   "outputs": [],
   "source": [
    "from sklearn.preprocessing import MinMaxScaler\n",
    "minmax = MinMaxScaler()"
   ]
  },
  {
   "cell_type": "code",
   "execution_count": 9,
   "metadata": {},
   "outputs": [],
   "source": [
    "# training data\n",
    "X_train = minmax.fit_transform(ctdc_X)\n",
    "X_train = pd.DataFrame(X_train, index  = ctdc_X.index)\n",
    "y_train = ctdc_y"
   ]
  },
  {
   "cell_type": "code",
   "execution_count": 10,
   "metadata": {},
   "outputs": [],
   "source": [
    "\n",
    "X_test = minmax.fit_transform(ctdc_indX_test)\n",
    "X_test = pd.DataFrame(X_test, index = ctdc_indX_test.index)\n",
    "y_test = ctdc_indy_test"
   ]
  },
  {
   "cell_type": "markdown",
   "metadata": {},
   "source": [
    "### Feature Selection for Sequence with large Attribute > 100"
   ]
  },
  {
   "cell_type": "code",
   "execution_count": 11,
   "metadata": {},
   "outputs": [],
   "source": [
    "def feat_select(X_train, y_train): \n",
    "    \n",
    "    from sklearn.feature_selection import SelectFromModel\n",
    "    from numpy import sort\n",
    "\n",
    "    xgb = XGBClassifier()\n",
    "    xgb.fit(X_train, y_train)\n",
    "\n",
    "    thresholds = np.sort(xgb.feature_importances_)[::-1]\n",
    "\n",
    "    feature_thresh = pd.DataFrame(columns = ['Thresh', 'n', 'Accuracy'])\n",
    "    columns = list(feature_thresh)\n",
    "    data = []\n",
    "\n",
    "    thresh_limit = 1\n",
    "\n",
    "    for thresh in thresholds:\n",
    "\n",
    "        #to Stop the loop if the threshold no longer improves\n",
    "\n",
    "        if thresh >= thresh_limit:\n",
    "            break\n",
    "\n",
    "        #select features using threshold\n",
    "        selection =  SelectFromModel(xgb, threshold = thresh, prefit = True)\n",
    "        select_X_train = selection.transform(X_train)\n",
    "\n",
    "        #train model\n",
    "        selection_model = XGBClassifier()\n",
    "        selection_model.fit(select_X_train, y_train)\n",
    "\n",
    "        #evaluate model\n",
    "        select_X_test = selection.transform(X_test)\n",
    "        predictions = selection_model.predict(select_X_test)\n",
    "        accuracy = accuracy_score(y_test, predictions)\n",
    "\n",
    "\n",
    "        #print(\"Thresh = %.3f, n = %d, Accuracy = %.2f%%\" % (thresh, select_X_train.shape[1], accuracy*100.0))\n",
    "\n",
    "        thresh_limit = thresh\n",
    "\n",
    "        values = [thresh, select_X_train.shape[1], accuracy*100]\n",
    "        zipped = zip(columns, values)\n",
    "        values_dict = dict(zipped)\n",
    "        data.append(values_dict)\n",
    "\n",
    "    feature_thresh = feature_thresh.append(data, True)\n",
    "\n",
    "    best_accuracy = feature_thresh[feature_thresh['Accuracy'] == feature_thresh['Accuracy'].max()]\n",
    "    best_threshold = best_accuracy.Thresh.min()\n",
    "\n",
    "    # transform training data based on the selected feature importances\n",
    "    best_thresh = SelectFromModel(xgb, threshold = best_threshold, prefit = True)\n",
    "    \n",
    "    X_train_best = pd.DataFrame(best_thresh.transform(X_train))\n",
    "    X_test_best = pd.DataFrame(best_thresh.transform(X_test))\n",
    "\n",
    "    return X_train_best, X_test_best\n"
   ]
  },
  {
   "cell_type": "code",
   "execution_count": 12,
   "metadata": {},
   "outputs": [],
   "source": [
    "#X_train_best, X_test_best = feat_select(X_train, y_train)"
   ]
  },
  {
   "cell_type": "code",
   "execution_count": 13,
   "metadata": {},
   "outputs": [],
   "source": [
    "if X_train.shape[1] > 100:\n",
    "    X_train, X_test = feat_select(X_train, y_train)"
   ]
  },
  {
   "cell_type": "markdown",
   "metadata": {},
   "source": [
    "## Stacking Ensemble Classifier - 1"
   ]
  },
  {
   "cell_type": "code",
   "execution_count": 14,
   "metadata": {},
   "outputs": [],
   "source": [
    "# get a stacking ensemble of models\n",
    "def get_stacking():\n",
    "    # define the base models\n",
    "    level0 = list()\n",
    "    #level0.append(('lr', LogisticRegression()))\n",
    "    level0.append(('knn', KNeighborsClassifier()))\n",
    "\n",
    "    level0.append(('lsvm', LinearSVC(random_state = random_seed)))\n",
    "    level0.append(('svm', SVC(random_state = random_seed)))\n",
    "    level0.append(('et', ExtraTreesClassifier(random_state = random_seed)))\n",
    "    level0.append(('rf', RandomForestClassifier(random_state = random_seed)))\n",
    "\n",
    "    level0.append(('xgbC', XGBClassifier()))\n",
    "    \n",
    "    # define meta learner model\n",
    "    level1 = LogisticRegression(random_state = random_seed)\n",
    "    # define the stacking ensemble\n",
    "    model = StackingClassifier(estimators=level0, final_estimator=level1, cv=5)\n",
    "    return model"
   ]
  },
  {
   "cell_type": "code",
   "execution_count": 15,
   "metadata": {},
   "outputs": [],
   "source": [
    "def get_models():\n",
    "    models = dict()\n",
    "    #models['lr'] = LogisticRegression()\n",
    "    models['knn'] = KNeighborsClassifier()\n",
    "\n",
    "    models['lsvm'] = LinearSVC(C=15.0, dual=False, \n",
    "                               loss='squared_hinge', \n",
    "                               penalty='l2', tol=0.01,\n",
    "                              random_state = random_seed)\n",
    "    models['et'] = ExtraTreesClassifier(bootstrap=False, \n",
    "                     criterion = 'gini', \n",
    "                     max_features=0.35000000000000003, \n",
    "                     min_samples_leaf= 1, \n",
    "                     min_samples_split=2, \n",
    "                     n_estimators=100,\n",
    "                                       random_state = random_seed)\n",
    "    \n",
    "    models['rf'] = RandomForestClassifier(random_state = random_seed)\n",
    "    models['svm'] = SVC()\n",
    "\n",
    "    models['xgbC'] = XGBClassifier()\n",
    "    models['stacking'] = get_stacking()\n",
    "    return models"
   ]
  },
  {
   "cell_type": "code",
   "execution_count": 16,
   "metadata": {},
   "outputs": [],
   "source": [
    "# evaluate a given model using cross-validation\n",
    "def evaluate_model(model, X, y):\n",
    "    cv = RepeatedStratifiedKFold(n_splits=10, n_repeats=3, random_state=1)\n",
    "    scores = cross_val_score(model, X, y, \n",
    "                             scoring='roc_auc', \n",
    "                             cv=cv, \n",
    "                             n_jobs=-1, \n",
    "                             error_score='raise')\n",
    "    return scores"
   ]
  },
  {
   "cell_type": "code",
   "execution_count": 17,
   "metadata": {},
   "outputs": [],
   "source": [
    "# get the models to evaluate\n",
    "models = get_models()"
   ]
  },
  {
   "cell_type": "code",
   "execution_count": 18,
   "metadata": {},
   "outputs": [
    {
     "name": "stdout",
     "output_type": "stream",
     "text": [
      ">knn 0.9122 (0.0401)\n",
      ">lsvm 0.9353 (0.0383)\n",
      ">et 0.9306 (0.0302)\n",
      ">rf 0.9202 (0.0354)\n",
      ">svm 0.9229 (0.0400)\n",
      ">xgbC 0.9256 (0.0330)\n",
      ">stacking 0.9348 (0.0356)\n"
     ]
    }
   ],
   "source": [
    "# Result on Train Set Cross Validation\n",
    "results, names = list(), list()\n",
    "for name, model in models.items():\n",
    "    scores = evaluate_model(model, \n",
    "                            X_train, \n",
    "                            y_train)\n",
    "    results.append(scores)\n",
    "    names.append(name)\n",
    "    print('>%s %.4f (%.4f)' % (name, \n",
    "                               mean(scores), \n",
    "                               std(scores)))"
   ]
  },
  {
   "cell_type": "code",
   "execution_count": 19,
   "metadata": {
    "scrolled": true
   },
   "outputs": [
    {
     "name": "stdout",
     "output_type": "stream",
     "text": [
      ">knn 0.7059\n",
      ">lsvm 0.7941\n",
      ">et 0.7647\n",
      ">rf 0.7500\n",
      ">svm 0.7500\n",
      ">xgbC 0.7500\n",
      ">stacking 0.8676\n"
     ]
    }
   ],
   "source": [
    "# Result on Test Set\n",
    "results, names = list(), list()\n",
    "for name, model in models.items():\n",
    "    mod = model.fit(X_train, y_train)\n",
    "    y_pred = mod.predict(X_test)\n",
    "    \n",
    "    fpr,tpr,thresholds = metrics.roc_curve(y_test, \n",
    "                                           y_pred, \n",
    "                                           pos_label = 1)\n",
    "    auc = metrics.auc(fpr,tpr)\n",
    "    \n",
    "    results.append(auc)\n",
    "    names.append(name)\n",
    "    print('>%s %.4f' % (name, auc))"
   ]
  },
  {
   "cell_type": "markdown",
   "metadata": {},
   "source": [
    "## Stacking Ensemble Classifier - 2"
   ]
  },
  {
   "cell_type": "code",
   "execution_count": 20,
   "metadata": {},
   "outputs": [],
   "source": [
    "# get a stacking ensemble of models\n",
    "def get_stacking2():\n",
    "    # define the base models\n",
    "    level0 = list()\n",
    "    #level0.append(('lr', LogisticRegression()))\n",
    "    #level0.append(('knn', KNeighborsClassifier()))\n",
    "\n",
    "    level0.append(('lsvm', LinearSVC(random_state = random_seed)))\n",
    "    #level0.append(('svm', SVC()))\n",
    "    level0.append(('et', ExtraTreesClassifier(random_state = random_seed)))\n",
    "    level0.append(('rf', RandomForestClassifier(random_state = random_seed)))\n",
    "\n",
    "    #level0.append(('xgbC', XGBClassifier()))\n",
    "    \n",
    "    # define meta learner model\n",
    "    level1 = LogisticRegression(random_state = random_seed)\n",
    "    # define the stacking ensemble\n",
    "    model = StackingClassifier(estimators=level0, final_estimator=level1, cv=5)\n",
    "    return model"
   ]
  },
  {
   "cell_type": "code",
   "execution_count": 21,
   "metadata": {},
   "outputs": [],
   "source": [
    "def get_models2():\n",
    "    models = dict()\n",
    "    #models['lr'] = LogisticRegression()\n",
    "    #models['knn'] = KNeighborsClassifier()\n",
    "\n",
    "    models['lsvm'] = LinearSVC(C=15.0, dual=False, \n",
    "                               loss='squared_hinge', \n",
    "                               penalty='l2', tol=0.01, \n",
    "                               random_state = random_seed)\n",
    "    models['et'] = ExtraTreesClassifier(bootstrap=False, \n",
    "                     criterion = 'entropy', \n",
    "                     max_features=0.35000000000000003, \n",
    "                     min_samples_leaf=18, \n",
    "                     min_samples_split=9, \n",
    "                     n_estimators=100,\n",
    "                        random_state = random_seed)\n",
    "    \n",
    "    models['rf'] = RandomForestClassifier(random_state = random_seed)\n",
    "    #models['svm'] = SVC()\n",
    "\n",
    "    #models['xgbC'] = XGBClassifier()\n",
    "    models['stacking'] = get_stacking()\n",
    "    return models"
   ]
  },
  {
   "cell_type": "code",
   "execution_count": 22,
   "metadata": {},
   "outputs": [],
   "source": [
    "# evaluate a given model using cross-validation\n",
    "def evaluate_model(model, X, y):\n",
    "    cv = RepeatedStratifiedKFold(n_splits=10, n_repeats=3, random_state=1)\n",
    "    scores = cross_val_score(model, X, y, \n",
    "                             scoring='roc_auc', \n",
    "                             cv=cv, \n",
    "                             n_jobs=-1, \n",
    "                             error_score='raise')\n",
    "    return scores"
   ]
  },
  {
   "cell_type": "code",
   "execution_count": 23,
   "metadata": {},
   "outputs": [],
   "source": [
    "# get the models to evaluate\n",
    "models = get_models2()"
   ]
  },
  {
   "cell_type": "code",
   "execution_count": 24,
   "metadata": {},
   "outputs": [
    {
     "name": "stdout",
     "output_type": "stream",
     "text": [
      ">lsvm 0.9353 (0.0383)\n",
      ">et 0.9127 (0.0399)\n",
      ">rf 0.9202 (0.0354)\n",
      ">stacking 0.9348 (0.0356)\n"
     ]
    }
   ],
   "source": [
    "# Result on Train Set Cross Validation\n",
    "results, names = list(), list()\n",
    "for name, model in models.items():\n",
    "    scores = evaluate_model(model, \n",
    "                            X_train, \n",
    "                            y_train)\n",
    "    results.append(scores)\n",
    "    names.append(name)\n",
    "    print('>%s %.4f (%.4f)' % (name, \n",
    "                               mean(scores), \n",
    "                               std(scores)))"
   ]
  },
  {
   "cell_type": "code",
   "execution_count": 25,
   "metadata": {
    "scrolled": true
   },
   "outputs": [
    {
     "name": "stdout",
     "output_type": "stream",
     "text": [
      ">lsvm 0.7941\n",
      ">et 0.7206\n",
      ">rf 0.7500\n",
      ">stacking 0.8676\n"
     ]
    }
   ],
   "source": [
    "# Result on Test Set\n",
    "results, names = list(), list()\n",
    "for name, model in models.items():\n",
    "    mod = model.fit(X_train, y_train)\n",
    "    y_pred = mod.predict(X_test)\n",
    "    \n",
    "    fpr,tpr,thresholds = metrics.roc_curve(y_test, \n",
    "                                           y_pred, \n",
    "                                           pos_label = 1)\n",
    "    auc = metrics.auc(fpr,tpr)\n",
    "    \n",
    "    results.append(auc)\n",
    "    names.append(name)\n",
    "    print('>%s %.4f' % (name, auc))"
   ]
  },
  {
   "cell_type": "markdown",
   "metadata": {},
   "source": [
    "## Stacking Ensemble Classifier - 3"
   ]
  },
  {
   "cell_type": "code",
   "execution_count": 26,
   "metadata": {},
   "outputs": [],
   "source": [
    "# get a stacking ensemble of models\n",
    "def get_stacking3():\n",
    "    # define the base models\n",
    "    level0 = list()\n",
    "    #level0.append(('lr', LogisticRegression()))\n",
    "    level0.append(('knn', KNeighborsClassifier()))\n",
    "\n",
    "    level0.append(('lsvm', LinearSVC(random_state = random_seed)))\n",
    "    #level0.append(('svm', SVC()))\n",
    "    level0.append(('et', ExtraTreesClassifier(random_state = random_seed)))\n",
    "    level0.append(('rf', RandomForestClassifier(random_state = random_seed)))\n",
    "\n",
    "    #level0.append(('xgbC', XGBClassifier()))\n",
    "    \n",
    "    # define meta learner model\n",
    "    level1 = LogisticRegression(random_state = random_seed)\n",
    "    # define the stacking ensemble\n",
    "    model = StackingClassifier(estimators=level0, final_estimator=level1, cv=5)\n",
    "    return model"
   ]
  },
  {
   "cell_type": "code",
   "execution_count": 27,
   "metadata": {},
   "outputs": [],
   "source": [
    "def get_models3():\n",
    "    models = dict()\n",
    "    #models['lr'] = LogisticRegression()\n",
    "    models['knn'] = KNeighborsClassifier()\n",
    "\n",
    "    models['lsvm'] = LinearSVC(C=15.0, dual=False, \n",
    "                               loss='squared_hinge', \n",
    "                               penalty='l2', tol=0.01,\n",
    "                              random_state = random_seed)\n",
    "    models['et'] = ExtraTreesClassifier(bootstrap=False, \n",
    "                     criterion = 'entropy', \n",
    "                     max_features=0.35000000000000003, \n",
    "                     min_samples_leaf=18, \n",
    "                     min_samples_split=9, \n",
    "                     n_estimators=100,\n",
    "                                       random_state = random_seed)\n",
    "    \n",
    "    models['rf'] = RandomForestClassifier(random_state = random_seed)\n",
    "    #models['svm'] = SVC()\n",
    "\n",
    "    #models['xgbC'] = XGBClassifier()\n",
    "    models['stacking'] = get_stacking()\n",
    "    return models"
   ]
  },
  {
   "cell_type": "code",
   "execution_count": 28,
   "metadata": {},
   "outputs": [],
   "source": [
    "# evaluate a given model using cross-validation\n",
    "def evaluate_model(model, X, y):\n",
    "    cv = RepeatedStratifiedKFold(n_splits=10, n_repeats=3, random_state=1)\n",
    "    scores = cross_val_score(model, X, y, \n",
    "                             scoring='roc_auc', \n",
    "                             cv=cv, \n",
    "                             n_jobs=-1, \n",
    "                             error_score='raise')\n",
    "    return scores"
   ]
  },
  {
   "cell_type": "code",
   "execution_count": 29,
   "metadata": {},
   "outputs": [],
   "source": [
    "# get the models to evaluate\n",
    "models = get_models3()"
   ]
  },
  {
   "cell_type": "code",
   "execution_count": 30,
   "metadata": {},
   "outputs": [
    {
     "name": "stdout",
     "output_type": "stream",
     "text": [
      ">knn 0.9122 (0.0401)\n",
      ">lsvm 0.9353 (0.0383)\n",
      ">et 0.9127 (0.0399)\n",
      ">rf 0.9202 (0.0354)\n",
      ">stacking 0.9348 (0.0356)\n"
     ]
    }
   ],
   "source": [
    "# Result on Train Set Cross Validation\n",
    "results, names = list(), list()\n",
    "for name, model in models.items():\n",
    "    scores = evaluate_model(model, \n",
    "                            X_train, \n",
    "                            y_train)\n",
    "    results.append(scores)\n",
    "    names.append(name)\n",
    "    print('>%s %.4f (%.4f)' % (name, \n",
    "                               mean(scores), \n",
    "                               std(scores)))"
   ]
  },
  {
   "cell_type": "code",
   "execution_count": 31,
   "metadata": {
    "scrolled": true
   },
   "outputs": [
    {
     "name": "stdout",
     "output_type": "stream",
     "text": [
      ">knn 0.7059\n",
      ">lsvm 0.7941\n",
      ">et 0.7206\n",
      ">rf 0.7500\n",
      ">stacking 0.8676\n"
     ]
    }
   ],
   "source": [
    "# Result on Test Set\n",
    "results, names = list(), list()\n",
    "for name, model in models.items():\n",
    "    mod = model.fit(X_train, y_train)\n",
    "    y_pred = mod.predict(X_test)\n",
    "    \n",
    "    fpr,tpr,thresholds = metrics.roc_curve(y_test, \n",
    "                                           y_pred, \n",
    "                                           pos_label = 1)\n",
    "    auc = metrics.auc(fpr,tpr)\n",
    "    \n",
    "    results.append(auc)\n",
    "    names.append(name)\n",
    "    print('>%s %.4f' % (name, auc))"
   ]
  },
  {
   "cell_type": "markdown",
   "metadata": {},
   "source": [
    "## Bayesian Hyperparameter Optimization - Optuna"
   ]
  },
  {
   "cell_type": "markdown",
   "metadata": {},
   "source": [
    "Random Forest"
   ]
  },
  {
   "cell_type": "code",
   "execution_count": 32,
   "metadata": {},
   "outputs": [],
   "source": [
    "rf_trial = 40\n",
    "\n",
    "def objective_rf(trial: Trial, X, y):\n",
    "\n",
    "    param = {\n",
    "        \n",
    "        'criterion':trial.suggest_categorical('criterion', ['gini', 'entropy']),\n",
    "        \"n_estimators\": trial.suggest_int('n_estimators', 10,1000),\n",
    "        \"max_depth\" : trial.suggest_int('max_depth', 5, 50),\n",
    "        'max_features':trial.suggest_categorical('max_features', ['auto', 'sqrt']),\n",
    "        'min_samples_split': trial.suggest_int('min_samples_split', 2, 10),\n",
    "        'min_samples_leaf': trial.suggest_int('min_samples_leaf', 1, 5),\n",
    "        'bootstrap': trial.suggest_categorical('bootstrap', [True, False]),\n",
    "        'random_state': random_seed\n",
    "        }\n",
    "    \n",
    "    model = RandomForestClassifier(**param)\n",
    "     \n",
    "    cv = RepeatedStratifiedKFold(n_splits=10, n_repeats=10, random_state= random_seed)\n",
    "    \n",
    "    return cross_val_score(model, \n",
    "                           X, \n",
    "                           y, \n",
    "                           cv = cv, \n",
    "                           scoring = 'roc_auc',\n",
    "                           n_jobs=-1).mean()"
   ]
  },
  {
   "cell_type": "code",
   "execution_count": 33,
   "metadata": {
    "scrolled": true
   },
   "outputs": [
    {
     "name": "stderr",
     "output_type": "stream",
     "text": [
      "[I 2020-10-31 22:31:38,755] A new study created in memory with name: no-name-a4888018-65fa-446b-9285-b3bdae42f1cb\n"
     ]
    }
   ],
   "source": [
    "study_rf = optuna.create_study(direction = 'maximize', sampler = TPESampler(seed = random_seed))\n",
    "\n",
    "## to be run once. Takes about 40 mins\n",
    "\n",
    "#study_rf.optimize(lambda trial: objective_rf(trial, X_train, y_train), n_trials = rf_trial)\n",
    "\n",
    "#print('Best trial: score {}, \\nparams{}'.format(study_rf.best_trial.value, study_rf.best_trial.params))\n",
    "\n",
    "#joblib.dump(study_rf.best_trial.params, '4ctdc_rf_best.pkl', compress = 1)"
   ]
  },
  {
   "cell_type": "markdown",
   "metadata": {},
   "source": [
    "Linear SVM"
   ]
  },
  {
   "cell_type": "code",
   "execution_count": 34,
   "metadata": {},
   "outputs": [],
   "source": [
    "lsvm_trial = 100\n",
    "\n",
    "def objective_lsvm(trial: Trial, X, y):\n",
    "\n",
    "\n",
    "    param = {\n",
    "        'C': trial.suggest_loguniform('C', 2 ** -10, 2 ** 15),\n",
    "        'tol': trial.suggest_loguniform('tol', 2 ** -20, 2 ** 10),\n",
    "        'max_iter': trial.suggest_int('max_iter', 100, 5000),\n",
    "        'random_state':random_seed\n",
    "    }\n",
    "    \n",
    "    model = LinearSVC(**param)\n",
    "    \n",
    "    #model.fit(train_X, train_y)\n",
    "    \n",
    "    cv = RepeatedStratifiedKFold(n_splits=10, n_repeats=10, random_state= random_seed)\n",
    "    \n",
    "    return cross_val_score(model, \n",
    "                           X, \n",
    "                           y, \n",
    "                           cv = cv, \n",
    "                           scoring = 'roc_auc',\n",
    "                           n_jobs=-1).mean()\n"
   ]
  },
  {
   "cell_type": "code",
   "execution_count": 35,
   "metadata": {
    "scrolled": true
   },
   "outputs": [
    {
     "name": "stderr",
     "output_type": "stream",
     "text": [
      "[I 2020-10-31 22:31:38,786] A new study created in memory with name: no-name-331f39d4-1316-4c22-97ef-68615f42421d\n"
     ]
    }
   ],
   "source": [
    "study_lsvm = optuna.create_study(direction = 'maximize', sampler = TPESampler(seed = random_seed))\n",
    "\n",
    "## To be run once. Takes 3 mins\n",
    "#study_lsvm.optimize(lambda trial: objective_lsvm(trial, X_train, y_train), n_trials = lsvm_trial)\n",
    "#print('Best trial: score {}, \\nparams{}'.format(study_lsvm.best_trial.value, study_lsvm.best_trial.params))\n",
    "#joblib.dump(study_lsvm.best_trial.params, '4ctdc_lsvm_best.pkl', compress = 1)"
   ]
  },
  {
   "cell_type": "markdown",
   "metadata": {},
   "source": [
    "Extra Trees Classifier"
   ]
  },
  {
   "cell_type": "code",
   "execution_count": 36,
   "metadata": {},
   "outputs": [],
   "source": [
    "et_trial = 50\n",
    "\n",
    "def objective_et(trial: Trial, X, y):\n",
    "\n",
    "    \n",
    "    param = {\n",
    "        \n",
    "        'criterion':trial.suggest_categorical('criterion', ['gini', 'entropy']),\n",
    "        \"n_estimators\": trial.suggest_int('n_estimators', 10,1000),\n",
    "        \"max_depth\" : trial.suggest_int('max_depth', 5, 50),\n",
    "        #'min_weight_fraction_leaf':trial.suggest_uniform('min_weight_fraction_leaf',0.0, 1.0),\n",
    "        'max_features':trial.suggest_categorical('max_features', ['auto', 'sqrt']),\n",
    "        'min_samples_split': trial.suggest_int('min_samples_split', 2, 10),\n",
    "        'min_samples_leaf': trial.suggest_int('min_samples_leaf', 1, 5),\n",
    "        'bootstrap': trial.suggest_categorical('bootstrap', [True, False]),\n",
    "        'random_state': random_seed\n",
    "        }\n",
    "    \n",
    "    model = ExtraTreesClassifier(**param)\n",
    "    \n",
    "    #model.fit(train_X, train_y)\n",
    "    \n",
    "    cv = RepeatedStratifiedKFold(n_splits=10, n_repeats=10, random_state= random_seed)\n",
    "    \n",
    "    return cross_val_score(model, \n",
    "                           X, \n",
    "                           y, \n",
    "                           cv = cv, \n",
    "                           scoring = 'roc_auc',\n",
    "                           n_jobs=-1).mean()"
   ]
  },
  {
   "cell_type": "code",
   "execution_count": 37,
   "metadata": {
    "scrolled": true
   },
   "outputs": [
    {
     "name": "stderr",
     "output_type": "stream",
     "text": [
      "[I 2020-10-31 22:31:38,815] A new study created in memory with name: no-name-155022dd-8cf4-4f83-bfea-002db55fb3f6\n"
     ]
    }
   ],
   "source": [
    "study_et = optuna.create_study(direction = 'maximize', sampler = TPESampler(seed = random_seed))\n",
    "\n",
    "## To be run once. Takes about 30 mins\n",
    "#study_et.optimize(lambda trial: objective_et(trial, X_train, y_train), n_trials = et_trial)\n",
    "#print('Best trial: score {}, \\nparams{}'.format(study_et.best_trial.value, study_et.best_trial.params))\n",
    "\n",
    "## save best param\n",
    "#joblib.dump(study_et.best_trial.params, '4ctdc_et_best.pkl', compress = 1)"
   ]
  },
  {
   "cell_type": "markdown",
   "metadata": {},
   "source": [
    "## Load Pre-trained Optimized Hyperparameters"
   ]
  },
  {
   "cell_type": "code",
   "execution_count": 38,
   "metadata": {},
   "outputs": [],
   "source": [
    "rf_best = joblib.load('4ctdc_rf_best.pkl')"
   ]
  },
  {
   "cell_type": "code",
   "execution_count": 39,
   "metadata": {},
   "outputs": [],
   "source": [
    "lsvm_best = joblib.load('4ctdc_lsvm_best.pkl')"
   ]
  },
  {
   "cell_type": "code",
   "execution_count": 40,
   "metadata": {},
   "outputs": [],
   "source": [
    "et_best = joblib.load('4ctdc_et_best.pkl')"
   ]
  },
  {
   "cell_type": "markdown",
   "metadata": {},
   "source": [
    "## Stacking Ensemble Model on Optimized Base Models"
   ]
  },
  {
   "cell_type": "code",
   "execution_count": 41,
   "metadata": {},
   "outputs": [],
   "source": [
    "#get a stacking ensemble of models\n",
    "def get_stacking_final():\n",
    "    # define the base models\n",
    "    level0 = list()\n",
    "\n",
    "    level0.append(('lsvm', LinearSVC().set_params(**lsvm_best)))\n",
    "\n",
    "    level0.append(('et', ExtraTreesClassifier().set_params(**et_best)))\n",
    "    \n",
    "    level0.append(('rf', RandomForestClassifier().set_params(**rf_best)))\n",
    "\n",
    "    # define meta learner model\n",
    "    level1 = LogisticRegression(random_state = random_seed)\n",
    "    \n",
    "    # define the stacking ensemble\n",
    "    model = StackingClassifier(estimators=level0, final_estimator=level1, cv=5)\n",
    "    return model"
   ]
  },
  {
   "cell_type": "code",
   "execution_count": 42,
   "metadata": {},
   "outputs": [],
   "source": [
    "def get_models_final():\n",
    "    models = dict()\n",
    "\n",
    "    models['lsvm'] = LinearSVC().set_params(**lsvm_best)\n",
    "\n",
    "    models['et'] = ExtraTreesClassifier().set_params(**et_best)\n",
    "    \n",
    "    models['rf'] = RandomForestClassifier().set_params(**rf_best)\n",
    "\n",
    "    models['stacking'] = get_stacking_final()\n",
    "    return models"
   ]
  },
  {
   "cell_type": "code",
   "execution_count": 43,
   "metadata": {},
   "outputs": [],
   "source": [
    "# evaluate a given model using cross-validation\n",
    "def evaluate_model(model, X, y):\n",
    "    cv = RepeatedStratifiedKFold(n_splits=10, n_repeats=3, random_state=random_seed)\n",
    "    scores = cross_val_score(model, X, y, \n",
    "                             scoring='roc_auc', \n",
    "                             cv=cv, \n",
    "                             n_jobs=-1, \n",
    "                             error_score='raise')\n",
    "    return scores"
   ]
  },
  {
   "cell_type": "code",
   "execution_count": 44,
   "metadata": {
    "scrolled": false
   },
   "outputs": [
    {
     "name": "stdout",
     "output_type": "stream",
     "text": [
      ">lsvm 0.936 (0.035)\n",
      ">et 0.938 (0.033)\n",
      ">rf 0.937 (0.032)\n",
      ">stacking 0.941 (0.034)\n"
     ]
    }
   ],
   "source": [
    "# get the models to evaluate on cross validated train set\n",
    "models_final = get_models_final()\n",
    "\n",
    "for name, model in models_final.items():\n",
    "    scores = evaluate_model(model, X_train, y_train)\n",
    "    results.append(scores)\n",
    "    names.append(name)\n",
    "    print('>%s %.3f (%.3f)' % (name, mean(scores), std(scores)))"
   ]
  },
  {
   "cell_type": "code",
   "execution_count": 45,
   "metadata": {
    "scrolled": false
   },
   "outputs": [
    {
     "name": "stdout",
     "output_type": "stream",
     "text": [
      ">lsvm AUC: 0.779 Accuracy: 0.779 f1: 0.783 precision: 0.771 recall: 0.794\n",
      ">et AUC: 0.750 Accuracy: 0.750 f1: 0.667 precision: 1.000 recall: 0.500\n",
      ">rf AUC: 0.706 Accuracy: 0.706 f1: 0.583 precision: 1.000 recall: 0.412\n",
      ">stacking AUC: 0.882 Accuracy: 0.882 f1: 0.867 precision: 1.000 recall: 0.765\n"
     ]
    },
    {
     "data": {
      "image/png": "[encoded data removed]",
      "text/plain": [
       "<Figure size 432x288 with 1 Axes>"
      ]
     },
     "metadata": {
      "needs_background": "light"
     },
     "output_type": "display_data"
    }
   ],
   "source": [
    "# on Independent Test Set\n",
    "results, names, tprate, fprate, accuracy, f1, precision, recall = list(), list(), list(), list(), list(), list(), list(), list()\n",
    "for name, model in models_final.items():\n",
    "    mod = model.fit(X_train, y_train)\n",
    "    y_pred = mod.predict(X_test)\n",
    "   \n",
    "    fpr, tpr, thresholds  = metrics.roc_curve(y_test, \n",
    "                                              y_pred, \n",
    "                                              pos_label=1)\n",
    "    \n",
    "    acc = metrics.accuracy_score(y_test, y_pred)\n",
    "    f = metrics.f1_score(y_test, y_pred)\n",
    "    auc = metrics.auc(fpr, tpr)\n",
    "    prec = metrics.precision_score(y_test, y_pred)\n",
    "    rec = metrics.recall_score(y_test, y_pred)\n",
    "    \n",
    "    results.append(auc)\n",
    "    names.append(name)\n",
    "    tprate.append(tpr)\n",
    "    fprate.append(fpr)\n",
    "    accuracy.append(acc)\n",
    "    f1.append(f)\n",
    "    precision.append(prec)\n",
    "    recall.append(rec)\n",
    "    \n",
    "    print('>%s AUC: %.3f Accuracy: %.3f f1: %.3f precision: %.3f recall: %.3f' % (name, auc, acc, f, prec, rec))\n",
    "    \n",
    "    if name == 'stacking':\n",
    "        y_pred_proba = mod.predict_proba(X_test)\n",
    "        skplt.metrics.plot_roc(y_test, y_pred_proba)\n",
    "        plt.title(name)\n",
    "        plt.show()\n",
    "    "
   ]
  },
  {
   "cell_type": "code",
   "execution_count": 46,
   "metadata": {},
   "outputs": [],
   "source": [
    "test_result = pd.DataFrame(list(zip(names, results, tprate, fprate)),\n",
    "              columns=['model','AUC', 'TPR', 'FPR'])"
   ]
  },
  {
   "cell_type": "markdown",
   "metadata": {},
   "source": [
    "### ROC - AUC Curve for individual models and the Stacked Model"
   ]
  },
  {
   "cell_type": "code",
   "execution_count": 47,
   "metadata": {},
   "outputs": [
    {
     "data": {
      "image/png": "[encoded data removed]",
      "text/plain": [
       "<Figure size 432x288 with 1 Axes>"
      ]
     },
     "metadata": {
      "needs_background": "light"
     },
     "output_type": "display_data"
    }
   ],
   "source": [
    "# plot the roc curve for the model\n",
    "\n",
    "for index, row in test_result.iterrows():\n",
    "    \n",
    "    plt.plot(row['FPR'], row['TPR'], linestyle='--', label= row['model'])\n",
    "    \n",
    "\n",
    "    # axis labels\n",
    "    plt.xlabel('False Positive Rate')\n",
    "    plt.ylabel('True Positive Rate')\n",
    "    plt.title('ROC-AUC')\n",
    "    # show the legend\n",
    "    plt.legend()"
   ]
  },
  {
   "cell_type": "markdown",
   "metadata": {},
   "source": [
    "### Confusion Matrix for Optimized Stacking Model"
   ]
  },
  {
   "cell_type": "code",
   "execution_count": 48,
   "metadata": {},
   "outputs": [],
   "source": [
    "cf_matrix = metrics.confusion_matrix(y_test, y_pred)"
   ]
  },
  {
   "cell_type": "code",
   "execution_count": 49,
   "metadata": {},
   "outputs": [],
   "source": [
    "group_names = ['True Neg','False Pos','False Neg','True Pos']\n",
    "group_counts = [\"{0:0.0f}\".format(value) for value in\n",
    "                cf_matrix.flatten()]\n",
    "group_percentages = [\"{0:.2%}\".format(value) for value in\n",
    "                     cf_matrix.flatten()/np.sum(cf_matrix)]\n",
    "labels = [f\"{v1}\\n{v2}\\n{v3}\" for v1, v2, v3 in\n",
    "          zip(group_names,group_counts,group_percentages)]\n",
    "labels = np.asarray(labels).reshape(2,2)"
   ]
  },
  {
   "cell_type": "code",
   "execution_count": 50,
   "metadata": {},
   "outputs": [
    {
     "data": {
      "text/plain": [
       "<AxesSubplot:>"
      ]
     },
     "execution_count": 50,
     "metadata": {},
     "output_type": "execute_result"
    },
    {
     "data": {
      "image/png": "[encoded data removed]",
      "text/plain": [
       "<Figure size 432x288 with 2 Axes>"
      ]
     },
     "metadata": {
      "needs_background": "light"
     },
     "output_type": "display_data"
    }
   ],
   "source": [
    "import seaborn as sns\n",
    "sns.heatmap(cf_matrix/np.sum(cf_matrix), annot=labels, \n",
    "           fmt='', cmap='Blues')"
   ]
  },
  {
   "cell_type": "markdown",
   "metadata": {},
   "source": [
    "Ref Material:<br>\n",
    "- Nice Confusion Matrix: https://medium.com/@dtuk81/confusion-matrix-visualization-fc31e3f30fea https://github.com/DTrimarchi10/confusion_matrix/blob/master/cf_matrix.py <br>\n",
    "- Scikit Plot: https://github.com/reiinakano/scikit-plot"
   ]
  },
  {
   "cell_type": "code",
   "execution_count": null,
   "metadata": {},
   "outputs": [],
   "source": []
  }
 ],
 "metadata": {
  "kernelspec": {
   "display_name": "Python 3",
   "language": "python",
   "name": "python3"
  },
  "language_info": {
   "codemirror_mode": {
    "name": "ipython",
    "version": 3
   },
   "file_extension": ".py",
   "mimetype": "text/x-python",
   "name": "python",
   "nbconvert_exporter": "python",
   "pygments_lexer": "ipython3",
   "version": "3.7.7"
  }
 },
 "nbformat": 4,
 "nbformat_minor": 4
}
